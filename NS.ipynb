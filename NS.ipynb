{
 "cells": [
  {
   "cell_type": "code",
   "execution_count": 1,
   "metadata": {},
   "outputs": [
    {
     "name": "stdout",
     "output_type": "stream",
     "text": [
      "Collecting praw\n",
      "  Downloading https://files.pythonhosted.org/packages/48/a8/a2e2d0750ee17c7e3d81e4695a0338ad0b3f231853b8c3fa339ff2d25c7c/praw-7.2.0-py3-none-any.whl (159kB)\n",
      "Collecting update-checker>=0.18 (from praw)\n",
      "  Downloading https://files.pythonhosted.org/packages/0c/ba/8dd7fa5f0b1c6a8ac62f8f57f7e794160c1f86f31c6d0fb00f582372a3e4/update_checker-0.18.0-py3-none-any.whl\n",
      "Collecting prawcore<3,>=2 (from praw)\n",
      "  Downloading https://files.pythonhosted.org/packages/7d/df/4a9106bea0d26689c4b309da20c926a01440ddaf60c09a5ae22684ebd35f/prawcore-2.0.0-py3-none-any.whl\n",
      "Collecting websocket-client>=0.54.0 (from praw)\n",
      "  Downloading https://files.pythonhosted.org/packages/08/33/80e0d4f60e84a1ddd9a03f340be1065a2a363c47ce65c4bd3bae65ce9631/websocket_client-0.58.0-py2.py3-none-any.whl (61kB)\n",
      "Requirement already satisfied: requests>=2.3.0 in c:\\users\\ankurgoswami\\appdata\\local\\continuum\\anaconda3\\lib\\site-packages (from update-checker>=0.18->praw) (2.22.0)\n",
      "Requirement already satisfied: six in c:\\users\\ankurgoswami\\appdata\\local\\continuum\\anaconda3\\lib\\site-packages (from websocket-client>=0.54.0->praw) (1.12.0)\n",
      "Requirement already satisfied: idna<2.9,>=2.5 in c:\\users\\ankurgoswami\\appdata\\local\\continuum\\anaconda3\\lib\\site-packages (from requests>=2.3.0->update-checker>=0.18->praw) (2.8)\n",
      "Requirement already satisfied: certifi>=2017.4.17 in c:\\users\\ankurgoswami\\appdata\\local\\continuum\\anaconda3\\lib\\site-packages (from requests>=2.3.0->update-checker>=0.18->praw) (2019.6.16)\n",
      "Requirement already satisfied: chardet<3.1.0,>=3.0.2 in c:\\users\\ankurgoswami\\appdata\\local\\continuum\\anaconda3\\lib\\site-packages (from requests>=2.3.0->update-checker>=0.18->praw) (3.0.4)\n",
      "Requirement already satisfied: urllib3!=1.25.0,!=1.25.1,<1.26,>=1.21.1 in c:\\users\\ankurgoswami\\appdata\\local\\continuum\\anaconda3\\lib\\site-packages (from requests>=2.3.0->update-checker>=0.18->praw) (1.24.2)\n",
      "Installing collected packages: update-checker, prawcore, websocket-client, praw\n",
      "Successfully installed praw-7.2.0 prawcore-2.0.0 update-checker-0.18.0 websocket-client-0.58.0\n"
     ]
    }
   ],
   "source": [
    "! pip install praw"
   ]
  },
  {
   "cell_type": "code",
   "execution_count": null,
   "metadata": {},
   "outputs": [],
   "source": []
  },
  {
   "cell_type": "markdown",
   "metadata": {},
   "source": [
    "Name: Ankur Goswami<br>\n",
    "Enroll: 2017BCSE029<br>\n",
    "Roll NO: 25<br>"
   ]
  },
  {
   "cell_type": "code",
   "execution_count": 1,
   "metadata": {},
   "outputs": [],
   "source": [
    "import numpy as np"
   ]
  },
  {
   "cell_type": "markdown",
   "metadata": {},
   "source": [
    "# 1. HILL CIPHER"
   ]
  },
  {
   "cell_type": "code",
   "execution_count": 2,
   "metadata": {},
   "outputs": [],
   "source": [
    "def encryption(plaintext,key):    \n",
    "    length=len(plaintext)\n",
    "    \n",
    "    assert len(key)==length**2, \"Key length should be equal to the square of length of plaintext.\"\n",
    "    \n",
    "    plaintext_mat=np.zeros((length,1),dtype=np.int8)\n",
    "    for i in range(length):\n",
    "        plaintext_mat[i][0]=ord(plaintext[i])-65\n",
    "    key_mat=np.zeros((length,length))\n",
    "    \n",
    "    for i in range(length):\n",
    "        for j in range(length):\n",
    "            key_mat[i][j]=ord(key[length*i+j])-65\n",
    "    ciphertext_mat=np.linalg.multi_dot((key_mat,plaintext_mat))%26\n",
    "    ciphertext=\"\"\n",
    "    for i in range(length):\n",
    "        ciphertext+=chr(int(ciphertext_mat[i][0])+65)\n",
    "    return ciphertext"
   ]
  },
  {
   "cell_type": "code",
   "execution_count": 3,
   "metadata": {},
   "outputs": [],
   "source": [
    "def decryption(ciphertext,key):\n",
    "    length=len(ciphertext)\n",
    "    \n",
    "    assert len(key)==length**2, \"Key length should be equal to the square of length of ciphertext.\"\n",
    "    \n",
    "    ciphertext_mat=np.zeros((length,1),dtype=np.int8)\n",
    "    for i in range(length):\n",
    "        ciphertext_mat[i][0]=ord(ciphertext[i])-65\n",
    "    key_mat=np.zeros((length,length))\n",
    "    for i in range(length):\n",
    "        for j in range(length):\n",
    "            key_mat[i][j]=ord(key[length*i+j])-65\n",
    "    key_mat=np.linalg.inv(key_mat)\n",
    "    plaintext_mat=np.linalg.multi_dot((key_mat,ciphertext_mat))%26\n",
    "    plaintext=\"\"\n",
    "    for i in range(length):\n",
    "        plaintext+=chr(int(plaintext_mat[i][0])+65)\n",
    "    return plaintext"
   ]
  },
  {
   "cell_type": "code",
   "execution_count": 4,
   "metadata": {},
   "outputs": [
    {
     "name": "stdout",
     "output_type": "stream",
     "text": [
      "Enter Plaintext: ACT\n",
      "Enter Key: GYBNQKURP\n",
      "\n",
      "\n",
      "Plaintext: ACT\n",
      "Key: GYBNQKURP\n",
      "Ciphertext is: POH\n"
     ]
    }
   ],
   "source": [
    "plaintext=input(\"Enter Plaintext: \")\n",
    "plaintext=plaintext.upper()\n",
    "key=input(\"Enter Key: \")\n",
    "key=key.upper()\n",
    "    \n",
    "ciphertext=encryption(plaintext,key)\n",
    "print(\"\\n\\nPlaintext: {}\\nKey: {}\".format(plaintext,key))\n",
    "print(\"Ciphertext is: {}\".format(ciphertext))"
   ]
  },
  {
   "cell_type": "code",
   "execution_count": 5,
   "metadata": {},
   "outputs": [
    {
     "name": "stdout",
     "output_type": "stream",
     "text": [
      "Enter Ciphertext: POH\n",
      "Enter Key: GYBNQKURP\n",
      "\n",
      "\n",
      "Ciphertext: POH\n",
      "Key: GYBNQKURP\n",
      "Plaintext is(Solution may differ because mod of matrix inverse is not always correct): VBF\n"
     ]
    }
   ],
   "source": [
    "ciphertext=input(\"Enter Ciphertext: \")\n",
    "ciphertext=ciphertext.upper()\n",
    "key=input(\"Enter Key: \")\n",
    "key=key.upper()\n",
    "    \n",
    "plaintext=decryption(ciphertext,key)\n",
    "print(\"\\n\\nCiphertext: {}\\nKey: {}\".format(ciphertext,key))\n",
    "print(\"Plaintext is(Solution may differ because mod of matrix inverse is not always correct): {}\".format(plaintext))"
   ]
  },
  {
   "cell_type": "markdown",
   "metadata": {},
   "source": [
    "___"
   ]
  },
  {
   "cell_type": "markdown",
   "metadata": {},
   "source": [
    "# 2. RABIN CIPHER"
   ]
  },
  {
   "cell_type": "code",
   "execution_count": 47,
   "metadata": {},
   "outputs": [],
   "source": [
    "n=2001\n",
    "arr=[-1 for i in range(n)]\n",
    "primes=[]\n",
    "\n",
    "for i in range(2,n):\n",
    "    if arr[i]==-1:\n",
    "        if i%4==3:\n",
    "            primes.append(i)\n",
    "        for j in range(i,n,i):\n",
    "            arr[j]=1"
   ]
  },
  {
   "cell_type": "code",
   "execution_count": 48,
   "metadata": {},
   "outputs": [],
   "source": [
    "def key_generation():\n",
    "    p=np.random.randint(len(primes))\n",
    "    q=np.random.randint(len(primes))\n",
    "    while p==q:\n",
    "        q=np.random.randint(len(primes))\n",
    "    p=primes[p]\n",
    "    q=primes[q]\n",
    "    return p,q"
   ]
  },
  {
   "cell_type": "code",
   "execution_count": 49,
   "metadata": {},
   "outputs": [],
   "source": [
    "def gcdExtended(a,b):  \n",
    "    if a==0:\n",
    "        return 0,1\n",
    "             \n",
    "    x1,y1=gcdExtended(b%a,a)  \n",
    "    x=y1-(b//a)*x1\n",
    "    y=x1     \n",
    "    return x,y"
   ]
  },
  {
   "cell_type": "code",
   "execution_count": 50,
   "metadata": {
    "scrolled": true
   },
   "outputs": [],
   "source": [
    "def encryption(m,pair):\n",
    "    n=pair[0]*pair[1]\n",
    "    m=int(bin(m)[2:]*2,2)\n",
    "    return pow(m,2,n)"
   ]
  },
  {
   "cell_type": "code",
   "execution_count": 51,
   "metadata": {},
   "outputs": [],
   "source": [
    "def decryption(cipher,p,q):\n",
    "    a,b=gcdExtended(p,q)\n",
    "    \n",
    "    r=pow(cipher,(p+1)//4,p)\n",
    "    s=pow(cipher,(q+1)//4,q)\n",
    "    \n",
    "    x=(a*p*r+b*q*s)%p\n",
    "    y=(a*p*r-b*q*s)%q\n",
    "\n",
    "    for i in (x,-x,y,-y):\n",
    "        binary=bin(i)[bin(i).find('b')+1:]\n",
    "        length=len(binary)\n",
    "        if binary[:length//2]==binary[length//2:]:\n",
    "            return int(binary[:length//2],2)"
   ]
  },
  {
   "cell_type": "code",
   "execution_count": 52,
   "metadata": {},
   "outputs": [],
   "source": [
    "p,q=key_generation()"
   ]
  },
  {
   "cell_type": "code",
   "execution_count": 53,
   "metadata": {},
   "outputs": [
    {
     "name": "stdout",
     "output_type": "stream",
     "text": [
      "Enter Plaintext(Number): 20\n",
      "\n",
      "\n",
      "Plaintext: 20\n",
      "Key: (1823, 1451)\n",
      "Ciphertext is: 435600\n"
     ]
    }
   ],
   "source": [
    "plaintext=int(input(\"Enter Plaintext(Number): \"))\n",
    "ciphertext=encryption(plaintext,(p,q))\n",
    "print(\"\\n\\nPlaintext: {}\\nKey: {}\".format(plaintext,(p,q)))\n",
    "print(\"Ciphertext is: {}\".format(ciphertext))"
   ]
  },
  {
   "cell_type": "code",
   "execution_count": 54,
   "metadata": {},
   "outputs": [
    {
     "name": "stdout",
     "output_type": "stream",
     "text": [
      "Enter Plaintext(Number): 435600\n",
      "\n",
      "\n",
      "Ciphertext: 435600\n",
      "Key: (1823, 1451)\n",
      "Plaintext is: 20\n"
     ]
    }
   ],
   "source": [
    "ciphertext=int(input(\"Enter Plaintext(Number): \"))\n",
    "plaintext=decryption(ciphertext,p,q)\n",
    "print(\"\\n\\nCiphertext: {}\\nKey: {}\".format(ciphertext,(p,q)))\n",
    "print(\"Plaintext is: {}\".format(plaintext))"
   ]
  },
  {
   "cell_type": "markdown",
   "metadata": {},
   "source": [
    "___"
   ]
  }
 ],
 "metadata": {
  "kernelspec": {
   "display_name": "Python 3",
   "language": "python",
   "name": "python3"
  },
  "language_info": {
   "codemirror_mode": {
    "name": "ipython",
    "version": 3
   },
   "file_extension": ".py",
   "mimetype": "text/x-python",
   "name": "python",
   "nbconvert_exporter": "python",
   "pygments_lexer": "ipython3",
   "version": "3.7.3"
  }
 },
 "nbformat": 4,
 "nbformat_minor": 2
}
